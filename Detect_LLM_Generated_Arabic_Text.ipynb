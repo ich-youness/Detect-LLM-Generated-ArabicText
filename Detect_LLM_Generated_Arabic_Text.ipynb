{
  "metadata": {
    "kernelspec": {
      "language": "python",
      "display_name": "Python 3",
      "name": "python3"
    },
    "language_info": {
      "name": "python",
      "version": "3.10.12",
      "mimetype": "text/x-python",
      "codemirror_mode": {
        "name": "ipython",
        "version": 3
      },
      "pygments_lexer": "ipython3",
      "nbconvert_exporter": "python",
      "file_extension": ".py"
    },
    "kaggle": {
      "accelerator": "nvidiaTeslaT4",
      "dataSources": [
        {
          "sourceId": 90929,
          "databundleVersionId": 10665072,
          "sourceType": "competition"
        },
        {
          "sourceId": 224047,
          "sourceType": "modelInstanceVersion",
          "modelInstanceId": 191153,
          "modelId": 213104
        },
        {
          "sourceId": 1269,
          "sourceType": "modelInstanceVersion",
          "modelInstanceId": 1075,
          "modelId": 140
        }
      ],
      "dockerImageVersionId": 30822,
      "isInternetEnabled": true,
      "language": "python",
      "sourceType": "notebook",
      "isGpuEnabled": true
    },
    "colab": {
      "name": "Detect LLM-Generated Arabic Text",
      "provenance": [],
      "include_colab_link": true
    }
  },
  "nbformat_minor": 0,
  "nbformat": 4,
  "cells": [
    {
      "cell_type": "markdown",
      "metadata": {
        "id": "view-in-github",
        "colab_type": "text"
      },
      "source": [
        "<a href=\"https://colab.research.google.com/github/ich-youness/Detect-LLM-Generated-ArabicText/blob/main/Detect_LLM_Generated_Arabic_Text.ipynb\" target=\"_parent\"><img src=\"https://colab.research.google.com/assets/colab-badge.svg\" alt=\"Open In Colab\"/></a>"
      ]
    },
    {
      "source": [
        "# IMPORTANT: SOME KAGGLE DATA SOURCES ARE PRIVATE\n",
        "# RUN THIS CELL IN ORDER TO IMPORT YOUR KAGGLE DATA SOURCES.\n",
        "import kagglehub\n",
        "kagglehub.login()\n"
      ],
      "metadata": {
        "id": "O9J_ajtZelLk"
      },
      "cell_type": "code",
      "outputs": [],
      "execution_count": null
    },
    {
      "source": [
        "# IMPORTANT: RUN THIS CELL IN ORDER TO IMPORT YOUR KAGGLE DATA SOURCES,\n",
        "# THEN FEEL FREE TO DELETE THIS CELL.\n",
        "# NOTE: THIS NOTEBOOK ENVIRONMENT DIFFERS FROM KAGGLE'S PYTHON\n",
        "# ENVIRONMENT SO THERE MAY BE MISSING LIBRARIES USED BY YOUR\n",
        "# NOTEBOOK.\n",
        "\n",
        "detect_llm_generated_arabic_text_path = kagglehub.competition_download('detect-llm-generated-arabic-text')\n",
        "kaggle_arabert_tensorflow2_arabert_1_path = kagglehub.model_download('kaggle/arabert/TensorFlow2/arabert/1')\n",
        "ynsichb_aubmindlabbert_base_arabertv2_transformers_default_1_path = kagglehub.model_download('ynsichb/aubmindlabbert-base-arabertv2/Transformers/default/1')\n",
        "\n",
        "print('Data source import complete.')\n"
      ],
      "metadata": {
        "id": "7oWjCYzaelLo"
      },
      "cell_type": "code",
      "outputs": [],
      "execution_count": null
    },
    {
      "cell_type": "code",
      "source": [
        "# This Python 3 environment comes with many helpful analytics libraries installed\n",
        "# It is defined by the kaggle/python Docker image: https://github.com/kaggle/docker-python\n",
        "# For example, here's several helpful packages to load\n",
        "\n",
        "import numpy as np # linear algebra\n",
        "import pandas as pd # data processing, CSV file I/O (e.g. pd.read_csv)\n",
        "\n",
        "# Input data files are available in the read-only \"../input/\" directory\n",
        "# For example, running this (by clicking run or pressing Shift+Enter) will list all files under the input directory\n",
        "\n",
        "import os\n",
        "for dirname, _, filenames in os.walk('/kaggle/input'):\n",
        "    for filename in filenames:\n",
        "        print(os.path.join(dirname, filename))\n",
        "\n",
        "# You can write up to 20GB to the current directory (/kaggle/working/) that gets preserved as output when you create a version using \"Save & Run All\"\n",
        "# You can also write temporary files to /kaggle/temp/, but they won't be saved outside of the current session"
      ],
      "metadata": {
        "_uuid": "8f2839f25d086af736a60e9eeb907d3b93b6e0e5",
        "_cell_guid": "b1076dfc-b9ad-4769-8c92-a6c4dae69d19",
        "trusted": true,
        "execution": {
          "iopub.status.busy": "2025-01-10T14:45:27.43886Z",
          "iopub.execute_input": "2025-01-10T14:45:27.439158Z",
          "iopub.status.idle": "2025-01-10T14:45:27.45484Z",
          "shell.execute_reply.started": "2025-01-10T14:45:27.439132Z",
          "shell.execute_reply": "2025-01-10T14:45:27.453974Z"
        },
        "id": "pxnMtaDBelLr"
      },
      "outputs": [],
      "execution_count": null
    },
    {
      "cell_type": "code",
      "source": [
        "!pip install pyarabic"
      ],
      "metadata": {
        "trusted": true,
        "execution": {
          "iopub.status.busy": "2025-01-10T14:45:27.456019Z",
          "iopub.execute_input": "2025-01-10T14:45:27.456243Z",
          "iopub.status.idle": "2025-01-10T14:45:30.654568Z",
          "shell.execute_reply.started": "2025-01-10T14:45:27.456222Z",
          "shell.execute_reply": "2025-01-10T14:45:30.653708Z"
        },
        "id": "lNWndcgJelLs"
      },
      "outputs": [],
      "execution_count": null
    },
    {
      "cell_type": "code",
      "source": [
        "import matplotlib.pyplot as plt\n",
        "import pyarabic.araby as araby\n",
        "from nltk.corpus import stopwords\n",
        "from nltk.stem.isri import ISRIStemmer\n",
        "import re"
      ],
      "metadata": {
        "trusted": true,
        "execution": {
          "iopub.status.busy": "2025-01-10T14:45:30.656458Z",
          "iopub.execute_input": "2025-01-10T14:45:30.656699Z",
          "iopub.status.idle": "2025-01-10T14:45:30.661053Z",
          "shell.execute_reply.started": "2025-01-10T14:45:30.656667Z",
          "shell.execute_reply": "2025-01-10T14:45:30.660141Z"
        },
        "id": "GvOL25k_elLt"
      },
      "outputs": [],
      "execution_count": null
    },
    {
      "cell_type": "code",
      "source": [
        "train_data = pd.read_csv(\"/kaggle/input/detect-llm-generated-arabic-text/train_set.csv\")\n",
        "test_data = pd.read_csv(\"/kaggle/input/detect-llm-generated-arabic-text/test_set.csv\")\n"
      ],
      "metadata": {
        "trusted": true,
        "execution": {
          "iopub.status.busy": "2025-01-10T14:45:30.662389Z",
          "iopub.execute_input": "2025-01-10T14:45:30.662613Z",
          "iopub.status.idle": "2025-01-10T14:45:31.052292Z",
          "shell.execute_reply.started": "2025-01-10T14:45:30.662593Z",
          "shell.execute_reply": "2025-01-10T14:45:31.051388Z"
        },
        "id": "F97CNOGbelLu"
      },
      "outputs": [],
      "execution_count": null
    },
    {
      "cell_type": "code",
      "source": [
        "train_data.head(10)"
      ],
      "metadata": {
        "trusted": true,
        "execution": {
          "iopub.status.busy": "2025-01-10T14:45:31.053186Z",
          "iopub.execute_input": "2025-01-10T14:45:31.053472Z",
          "iopub.status.idle": "2025-01-10T14:45:31.064109Z",
          "shell.execute_reply.started": "2025-01-10T14:45:31.053421Z",
          "shell.execute_reply": "2025-01-10T14:45:31.063201Z"
        },
        "id": "uub7rLFKelLv"
      },
      "outputs": [],
      "execution_count": null
    },
    {
      "cell_type": "code",
      "source": [
        "train_data[\"generated\"].value_counts().plot(kind=\"bar\")"
      ],
      "metadata": {
        "trusted": true,
        "execution": {
          "iopub.status.busy": "2025-01-10T14:45:31.064983Z",
          "iopub.execute_input": "2025-01-10T14:45:31.065262Z",
          "iopub.status.idle": "2025-01-10T14:45:31.301364Z",
          "shell.execute_reply.started": "2025-01-10T14:45:31.065235Z",
          "shell.execute_reply": "2025-01-10T14:45:31.300442Z"
        },
        "id": "0aO4x2NIelLw"
      },
      "outputs": [],
      "execution_count": null
    },
    {
      "cell_type": "code",
      "source": [
        "arabic_stopwords = stopwords.words(\"arabic\")\n",
        "print(arabic_stopwords)"
      ],
      "metadata": {
        "trusted": true,
        "execution": {
          "iopub.status.busy": "2025-01-10T14:45:31.303488Z",
          "iopub.execute_input": "2025-01-10T14:45:31.303779Z",
          "iopub.status.idle": "2025-01-10T14:45:31.310032Z",
          "shell.execute_reply.started": "2025-01-10T14:45:31.303754Z",
          "shell.execute_reply": "2025-01-10T14:45:31.309213Z"
        },
        "id": "4oIP-r0PelLw"
      },
      "outputs": [],
      "execution_count": null
    },
    {
      "cell_type": "markdown",
      "source": [
        "# Preprocessing"
      ],
      "metadata": {
        "id": "NVGt0q38elLy"
      }
    },
    {
      "cell_type": "code",
      "source": [
        "# for  word in arabic_stopwords:\n",
        "#     if any(word in text for text in train_data[\"text\"]):\n",
        "        # print(f\"the word deleted: {word}\")\n",
        "\n",
        "\n",
        ""
      ],
      "metadata": {
        "trusted": true,
        "execution": {
          "iopub.status.busy": "2025-01-10T14:45:31.311613Z",
          "iopub.execute_input": "2025-01-10T14:45:31.311886Z",
          "iopub.status.idle": "2025-01-10T14:45:31.322302Z",
          "shell.execute_reply.started": "2025-01-10T14:45:31.311864Z",
          "shell.execute_reply": "2025-01-10T14:45:31.32154Z"
        },
        "id": "kFHfetL3elL1"
      },
      "outputs": [],
      "execution_count": null
    },
    {
      "cell_type": "markdown",
      "source": [
        "**Remove Stopwords**"
      ],
      "metadata": {
        "id": "q3wYu6LvelL3"
      }
    },
    {
      "cell_type": "code",
      "source": [
        "def process(text):\n",
        "    text = araby.strip_tashkeel(text)\n",
        "    text = araby.normalize_hamza(text)\n",
        "\n",
        "    words = text.split()\n",
        "    filtered_text = [word for word in words if word not in arabic_stopwords]\n",
        "    return \" \".join(filtered_text)\n",
        ""
      ],
      "metadata": {
        "trusted": true,
        "execution": {
          "iopub.status.busy": "2025-01-10T14:45:31.323136Z",
          "iopub.execute_input": "2025-01-10T14:45:31.323397Z",
          "iopub.status.idle": "2025-01-10T14:45:31.333805Z",
          "shell.execute_reply.started": "2025-01-10T14:45:31.32337Z",
          "shell.execute_reply": "2025-01-10T14:45:31.332866Z"
        },
        "id": "AHxLuo6_elL3"
      },
      "outputs": [],
      "execution_count": null
    },
    {
      "cell_type": "code",
      "source": [
        "train_data[\"filtered_text\"] = train_data[\"text\"].apply(process)"
      ],
      "metadata": {
        "trusted": true,
        "execution": {
          "iopub.status.busy": "2025-01-10T14:45:31.334899Z",
          "iopub.execute_input": "2025-01-10T14:45:31.335202Z",
          "iopub.status.idle": "2025-01-10T14:45:46.532843Z",
          "shell.execute_reply.started": "2025-01-10T14:45:31.335171Z",
          "shell.execute_reply": "2025-01-10T14:45:46.531909Z"
        },
        "id": "osNuBC00elL5"
      },
      "outputs": [],
      "execution_count": null
    },
    {
      "cell_type": "code",
      "source": [
        "train_data.head()"
      ],
      "metadata": {
        "trusted": true,
        "execution": {
          "iopub.status.busy": "2025-01-10T14:45:46.533896Z",
          "iopub.execute_input": "2025-01-10T14:45:46.53423Z",
          "iopub.status.idle": "2025-01-10T14:45:46.542502Z",
          "shell.execute_reply.started": "2025-01-10T14:45:46.534196Z",
          "shell.execute_reply": "2025-01-10T14:45:46.541772Z"
        },
        "id": "oRrUt-aEelL5"
      },
      "outputs": [],
      "execution_count": null
    },
    {
      "cell_type": "markdown",
      "source": [
        "**Stemmer**"
      ],
      "metadata": {
        "id": "WHr3VFajelL6"
      }
    },
    {
      "cell_type": "code",
      "source": [
        "def stemmer(text):\n",
        "    stemmer = ISRIStemmer()\n",
        "\n",
        "    text = stemmer.stem(text)\n",
        "    text = stemmer.pre32(text)\n",
        "    text = stemmer.suf32(text)\n",
        "\n",
        "    return text\n",
        "\n"
      ],
      "metadata": {
        "trusted": true,
        "execution": {
          "iopub.status.busy": "2025-01-10T14:45:46.543403Z",
          "iopub.execute_input": "2025-01-10T14:45:46.543736Z",
          "iopub.status.idle": "2025-01-10T14:45:46.557234Z",
          "shell.execute_reply.started": "2025-01-10T14:45:46.543675Z",
          "shell.execute_reply": "2025-01-10T14:45:46.556299Z"
        },
        "id": "-s-LE_PYelL7"
      },
      "outputs": [],
      "execution_count": null
    },
    {
      "cell_type": "code",
      "source": [
        "train_data[\"filtered_text\"] = train_data[\"filtered_text\"].apply(stemmer)\n"
      ],
      "metadata": {
        "trusted": true,
        "execution": {
          "iopub.status.busy": "2025-01-10T14:45:46.558129Z",
          "iopub.execute_input": "2025-01-10T14:45:46.558402Z",
          "iopub.status.idle": "2025-01-10T14:45:46.779795Z",
          "shell.execute_reply.started": "2025-01-10T14:45:46.558368Z",
          "shell.execute_reply": "2025-01-10T14:45:46.778834Z"
        },
        "id": "Ji9kvVdwelL7"
      },
      "outputs": [],
      "execution_count": null
    },
    {
      "cell_type": "code",
      "source": [
        "train_data.head()"
      ],
      "metadata": {
        "trusted": true,
        "execution": {
          "iopub.status.busy": "2025-01-10T14:45:46.780661Z",
          "iopub.execute_input": "2025-01-10T14:45:46.781136Z",
          "iopub.status.idle": "2025-01-10T14:45:46.788738Z",
          "shell.execute_reply.started": "2025-01-10T14:45:46.781105Z",
          "shell.execute_reply": "2025-01-10T14:45:46.788048Z"
        },
        "id": "vVv9dV-QelL8"
      },
      "outputs": [],
      "execution_count": null
    },
    {
      "cell_type": "code",
      "source": [
        "def normalizeArabic(text):\n",
        "    text = text.strip()\n",
        "    ## replace re.sub(<pattern>, <replacement>, string, <count>, <flags>)\n",
        "    text = re.sub(\"ى\", \"ي\", text)\n",
        "    text = re.sub(\"ؤ\", \"ء\", text)\n",
        "    text = re.sub(\"ئ\", \"ء\", text)\n",
        "    text = re.sub(\"ة\", \"ه\", text)\n",
        "\n",
        "    #remove repetetions\n",
        "    text = re.sub(\"[إأٱآا]\", \"ا\", text)\n",
        "    text = text.replace('وو', 'و')\n",
        "    text = text.replace('يي', 'ي')\n",
        "    text = text.replace('ييي', 'ي')\n",
        "    text = text.replace('اا', 'ا')\n",
        "\n",
        "    ## remove extra whitespace\n",
        "    text = re.sub('\\s+', ' ', text)\n",
        "\n",
        "    # Remove specified special characters\n",
        "    text = re.sub(r\"[<<\\n،»»;',-]\", \"\", text)\n",
        "\n",
        "    # Remove longation\n",
        "    text = re.sub(r'(.)\\1+', r\"\\1\\1\", text)\n",
        "\n",
        "    #Strip vowels from a text, include Shadda.\n",
        "    text = araby.strip_tashkeel(text)\n",
        "\n",
        "    #Strip diacritics from a text, include harakats and small lettres The striped marks are\n",
        "    text = araby.strip_diacritics(text)\n",
        "    text=''.join([i for i in text if not i.isdigit()])\n",
        "    return text\n"
      ],
      "metadata": {
        "trusted": true,
        "execution": {
          "iopub.status.busy": "2025-01-10T14:45:46.789567Z",
          "iopub.execute_input": "2025-01-10T14:45:46.789817Z",
          "iopub.status.idle": "2025-01-10T14:45:46.80029Z",
          "shell.execute_reply.started": "2025-01-10T14:45:46.789787Z",
          "shell.execute_reply": "2025-01-10T14:45:46.799462Z"
        },
        "id": "FAohI_m6elL9"
      },
      "outputs": [],
      "execution_count": null
    },
    {
      "cell_type": "code",
      "source": [
        "train_data[\"filtered_text\"] = train_data[\"filtered_text\"].apply(normalizeArabic)"
      ],
      "metadata": {
        "trusted": true,
        "execution": {
          "iopub.status.busy": "2025-01-10T14:45:46.80113Z",
          "iopub.execute_input": "2025-01-10T14:45:46.801409Z",
          "iopub.status.idle": "2025-01-10T14:45:50.921795Z",
          "shell.execute_reply.started": "2025-01-10T14:45:46.801381Z",
          "shell.execute_reply": "2025-01-10T14:45:50.921116Z"
        },
        "id": "6NfYtT_GelL-"
      },
      "outputs": [],
      "execution_count": null
    },
    {
      "cell_type": "code",
      "source": [
        "train_data.head()"
      ],
      "metadata": {
        "trusted": true,
        "execution": {
          "iopub.status.busy": "2025-01-10T14:45:50.922574Z",
          "iopub.execute_input": "2025-01-10T14:45:50.922991Z",
          "iopub.status.idle": "2025-01-10T14:45:50.930782Z",
          "shell.execute_reply.started": "2025-01-10T14:45:50.922957Z",
          "shell.execute_reply": "2025-01-10T14:45:50.930058Z"
        },
        "id": "cS6ySoOaelL_"
      },
      "outputs": [],
      "execution_count": null
    },
    {
      "cell_type": "code",
      "source": [
        "def Removing_punctuations(text):\n",
        "    ## Remove punctuations\n",
        "    text = re.sub('[%s]' % re.escape(\"\"\"!\"#$%&'()*+,،-./:;<=>؟?@[\\]^_`{|}~\"\"\"), ' ', text)\n",
        "    text = text.replace('؛',\"\", )\n",
        "\n",
        "    ## remove extra whitespace\n",
        "    text = re.sub('\\s+', ' ', text)\n",
        "    text =  \" \".join(text.split())\n",
        "    return text.strip()"
      ],
      "metadata": {
        "trusted": true,
        "execution": {
          "iopub.status.busy": "2025-01-10T14:45:50.931554Z",
          "iopub.execute_input": "2025-01-10T14:45:50.931819Z",
          "iopub.status.idle": "2025-01-10T14:45:50.942063Z",
          "shell.execute_reply.started": "2025-01-10T14:45:50.931798Z",
          "shell.execute_reply": "2025-01-10T14:45:50.941441Z"
        },
        "id": "8Xr4A18FelMA"
      },
      "outputs": [],
      "execution_count": null
    },
    {
      "cell_type": "code",
      "source": [
        "train_data[\"filtered_text\"] = train_data[\"filtered_text\"].apply(Removing_punctuations)"
      ],
      "metadata": {
        "trusted": true,
        "execution": {
          "iopub.status.busy": "2025-01-10T14:45:50.945118Z",
          "iopub.execute_input": "2025-01-10T14:45:50.945312Z",
          "iopub.status.idle": "2025-01-10T14:45:51.71344Z",
          "shell.execute_reply.started": "2025-01-10T14:45:50.945294Z",
          "shell.execute_reply": "2025-01-10T14:45:51.712502Z"
        },
        "id": "eOhEClQrelMB"
      },
      "outputs": [],
      "execution_count": null
    },
    {
      "cell_type": "code",
      "source": [
        "train_data.head()"
      ],
      "metadata": {
        "trusted": true,
        "execution": {
          "iopub.status.busy": "2025-01-10T14:45:51.714982Z",
          "iopub.execute_input": "2025-01-10T14:45:51.715288Z",
          "iopub.status.idle": "2025-01-10T14:45:51.722966Z",
          "shell.execute_reply.started": "2025-01-10T14:45:51.715257Z",
          "shell.execute_reply": "2025-01-10T14:45:51.722279Z"
        },
        "id": "tUI9Y6YCelMB"
      },
      "outputs": [],
      "execution_count": null
    },
    {
      "cell_type": "markdown",
      "source": [
        "# Trainning"
      ],
      "metadata": {
        "id": "0NoCpy6UelMC"
      }
    },
    {
      "cell_type": "code",
      "source": [
        "!pip install transformers"
      ],
      "metadata": {
        "trusted": true,
        "execution": {
          "iopub.status.busy": "2025-01-10T14:45:51.723705Z",
          "iopub.execute_input": "2025-01-10T14:45:51.723914Z",
          "iopub.status.idle": "2025-01-10T14:45:54.927545Z",
          "shell.execute_reply.started": "2025-01-10T14:45:51.723895Z",
          "shell.execute_reply": "2025-01-10T14:45:54.926527Z"
        },
        "id": "0bvDAYNWelMC"
      },
      "outputs": [],
      "execution_count": null
    },
    {
      "cell_type": "code",
      "source": [
        "# Use a pipeline as a high-level helper\n",
        "from transformers import pipeline\n",
        "\n",
        "pipe = pipeline(\"fill-mask\", model=\"aubmindlab/bert-base-arabertv2\")"
      ],
      "metadata": {
        "trusted": true,
        "execution": {
          "iopub.status.busy": "2025-01-10T14:45:54.928757Z",
          "iopub.execute_input": "2025-01-10T14:45:54.929041Z",
          "iopub.status.idle": "2025-01-10T14:45:56.020964Z",
          "shell.execute_reply.started": "2025-01-10T14:45:54.929017Z",
          "shell.execute_reply": "2025-01-10T14:45:56.020294Z"
        },
        "id": "ll7J7vraelMD"
      },
      "outputs": [],
      "execution_count": null
    },
    {
      "cell_type": "code",
      "source": [
        "# Load model directly\n",
        "from transformers import AutoTokenizer, AutoModelForMaskedLM\n",
        "\n",
        "tokenizer = AutoTokenizer.from_pretrained(\"aubmindlab/bert-base-arabertv2\")\n",
        "model = AutoModelForMaskedLM.from_pretrained(\"aubmindlab/bert-base-arabertv2\")"
      ],
      "metadata": {
        "trusted": true,
        "execution": {
          "iopub.status.busy": "2025-01-10T14:45:56.021888Z",
          "iopub.execute_input": "2025-01-10T14:45:56.022177Z",
          "iopub.status.idle": "2025-01-10T14:45:56.829694Z",
          "shell.execute_reply.started": "2025-01-10T14:45:56.022142Z",
          "shell.execute_reply": "2025-01-10T14:45:56.829054Z"
        },
        "id": "cR6jBEU4elME"
      },
      "outputs": [],
      "execution_count": null
    },
    {
      "cell_type": "code",
      "source": [
        "from transformers import TFAutoModelForSequenceClassification, AutoTokenizer\n",
        "\n",
        "model_name = \"aubmindlab/bert-base-arabertv02\"\n",
        "tokenizer = AutoTokenizer.from_pretrained(model_name)\n",
        "\n",
        "# Load the model for sequence classification\n",
        "model = TFAutoModelForSequenceClassification.from_pretrained(model_name, num_labels=2)  # Binary classification\n"
      ],
      "metadata": {
        "trusted": true,
        "execution": {
          "iopub.status.busy": "2025-01-10T14:45:56.830565Z",
          "iopub.execute_input": "2025-01-10T14:45:56.830878Z",
          "iopub.status.idle": "2025-01-10T14:45:58.426711Z",
          "shell.execute_reply.started": "2025-01-10T14:45:56.830838Z",
          "shell.execute_reply": "2025-01-10T14:45:58.425759Z"
        },
        "id": "YI8siViwelMF"
      },
      "outputs": [],
      "execution_count": null
    },
    {
      "cell_type": "code",
      "source": [
        "from sklearn.model_selection import train_test_split\n",
        "\n",
        "X,Y = train_data[\"filtered_text\"], train_data[\"generated\"]\n",
        "\n",
        "x_train, x_test, y_train, y_test = train_test_split(X,Y, test_size=0.2, random_state=32)"
      ],
      "metadata": {
        "trusted": true,
        "execution": {
          "iopub.status.busy": "2025-01-10T14:45:58.427862Z",
          "iopub.execute_input": "2025-01-10T14:45:58.428188Z",
          "iopub.status.idle": "2025-01-10T14:45:58.445594Z",
          "shell.execute_reply.started": "2025-01-10T14:45:58.428152Z",
          "shell.execute_reply": "2025-01-10T14:45:58.444759Z"
        },
        "id": "ciwEzumbelMG"
      },
      "outputs": [],
      "execution_count": null
    },
    {
      "cell_type": "code",
      "source": [
        "train_data.head()"
      ],
      "metadata": {
        "trusted": true,
        "execution": {
          "iopub.status.busy": "2025-01-10T14:45:58.446716Z",
          "iopub.execute_input": "2025-01-10T14:45:58.447045Z",
          "iopub.status.idle": "2025-01-10T14:45:58.462654Z",
          "shell.execute_reply.started": "2025-01-10T14:45:58.447013Z",
          "shell.execute_reply": "2025-01-10T14:45:58.461973Z"
        },
        "id": "2yf6XuuqelMG"
      },
      "outputs": [],
      "execution_count": null
    },
    {
      "cell_type": "code",
      "source": [
        "def encode_text(texts, tokenizer, max_length=256):\n",
        "    return tokenizer(\n",
        "        texts,\n",
        "        padding='max_length',\n",
        "        truncation=True,\n",
        "        max_length=max_length,\n",
        "        return_tensors='tf'\n",
        "    )\n",
        "\n",
        "# Tokenize the train and test data\n",
        "train_encodings = encode_text(x_train.tolist(), tokenizer)\n",
        "test_encodings = encode_text(x_test.tolist(), tokenizer)\n",
        "\n",
        "# # Prepare the datasets as TensorFlow datasets\n",
        "# import tensorflow as tf\n",
        "# train_dataset = tf.data.Dataset.from_tensor_slices((\n",
        "#     dict(train_encodings),\n",
        "#     train_data[\"text_id\"].values  # Replace with the actual label column\n",
        "# ))\n",
        "\n",
        "# test_dataset = tf.data.Dataset.from_tensor_slices((\n",
        "#     dict(test_encodings),\n",
        "#     test_data[\"text_id\"].values  # Replace with the actual label column\n",
        "# ))\n",
        "\n",
        "# train_dataset = train_dataset.batch(16)\n",
        "# test_dataset = test_dataset.batch(16)"
      ],
      "metadata": {
        "trusted": true,
        "execution": {
          "iopub.status.busy": "2025-01-10T14:45:58.463375Z",
          "iopub.execute_input": "2025-01-10T14:45:58.463578Z",
          "iopub.status.idle": "2025-01-10T14:46:01.09403Z",
          "shell.execute_reply.started": "2025-01-10T14:45:58.463559Z",
          "shell.execute_reply": "2025-01-10T14:46:01.093326Z"
        },
        "id": "dtYuApMRelMH"
      },
      "outputs": [],
      "execution_count": null
    },
    {
      "cell_type": "code",
      "source": [
        "# def tokenize_data(texts):\n",
        "#     return tokenizer(\n",
        "#         list(texts),\n",
        "#         max_length=128,\n",
        "#         truncation=True,\n",
        "#         padding=\"max_length\",\n",
        "#         return_tensors=\"tf\",\n",
        "#     )\n",
        "# x_train_tokenized = tokenize_data(x_train)\n",
        "# x_test_tokenized = tokenize_data(x_test)\n"
      ],
      "metadata": {
        "trusted": true,
        "execution": {
          "iopub.status.busy": "2025-01-10T14:46:01.09473Z",
          "iopub.execute_input": "2025-01-10T14:46:01.094949Z",
          "iopub.status.idle": "2025-01-10T14:46:01.098202Z",
          "shell.execute_reply.started": "2025-01-10T14:46:01.094931Z",
          "shell.execute_reply": "2025-01-10T14:46:01.097389Z"
        },
        "id": "hEjS9G4CelMH"
      },
      "outputs": [],
      "execution_count": null
    },
    {
      "cell_type": "code",
      "source": [
        "# Tokenize the training and testing data\n",
        "train_encodings = tokenizer(x_train.tolist(), truncation=True, padding=True, max_length=128)\n",
        "test_encodings = tokenizer(x_test.tolist(), truncation=True, padding=True, max_length=128)"
      ],
      "metadata": {
        "trusted": true,
        "execution": {
          "iopub.status.busy": "2025-01-10T14:46:01.099017Z",
          "iopub.execute_input": "2025-01-10T14:46:01.09931Z",
          "iopub.status.idle": "2025-01-10T14:46:03.7856Z",
          "shell.execute_reply.started": "2025-01-10T14:46:01.099289Z",
          "shell.execute_reply": "2025-01-10T14:46:03.784656Z"
        },
        "id": "Qf0gQWO7elMI"
      },
      "outputs": [],
      "execution_count": null
    },
    {
      "cell_type": "code",
      "source": [
        "import tensorflow as tf\n",
        "\n",
        "# Convert the tokenized data into TensorFlow datasets\n",
        "train_dataset = tf.data.Dataset.from_tensor_slices((\n",
        "    dict(train_encodings),\n",
        "    y_train\n",
        "))\n",
        "\n",
        "test_dataset = tf.data.Dataset.from_tensor_slices((\n",
        "    dict(test_encodings),\n",
        "    y_test\n",
        "))"
      ],
      "metadata": {
        "trusted": true,
        "execution": {
          "iopub.status.busy": "2025-01-10T14:46:03.786417Z",
          "iopub.execute_input": "2025-01-10T14:46:03.786664Z",
          "iopub.status.idle": "2025-01-10T14:46:07.460982Z",
          "shell.execute_reply.started": "2025-01-10T14:46:03.786642Z",
          "shell.execute_reply": "2025-01-10T14:46:07.460052Z"
        },
        "id": "CW8K0jXMelMI"
      },
      "outputs": [],
      "execution_count": null
    },
    {
      "cell_type": "code",
      "source": [
        "BATCH_SIZE = 16\n",
        "train_dataset = train_dataset.shuffle(len(x_train)).batch(BATCH_SIZE).prefetch(tf.data.AUTOTUNE)\n",
        "test_dataset = test_dataset.batch(BATCH_SIZE).prefetch(tf.data.AUTOTUNE)\n"
      ],
      "metadata": {
        "trusted": true,
        "execution": {
          "iopub.status.busy": "2025-01-10T14:46:07.461798Z",
          "iopub.execute_input": "2025-01-10T14:46:07.462048Z",
          "iopub.status.idle": "2025-01-10T14:46:07.473154Z",
          "shell.execute_reply.started": "2025-01-10T14:46:07.462026Z",
          "shell.execute_reply": "2025-01-10T14:46:07.472482Z"
        },
        "id": "pm8Mc1WEelMJ"
      },
      "outputs": [],
      "execution_count": null
    },
    {
      "cell_type": "code",
      "source": [
        "from transformers import AdamWeightDecay\n",
        "\n",
        "optimizer = AdamWeightDecay(learning_rate=2e-5, weight_decay_rate=0.01)\n",
        "\n",
        "\n",
        "loss = tf.keras.losses.SparseCategoricalCrossentropy(from_logits=True)\n",
        "metrics = ['accuracy']\n",
        "\n",
        "model.compile(optimizer=optimizer, loss=loss, metrics=metrics)\n"
      ],
      "metadata": {
        "trusted": true,
        "execution": {
          "iopub.status.busy": "2025-01-10T14:46:07.473981Z",
          "iopub.execute_input": "2025-01-10T14:46:07.474272Z",
          "iopub.status.idle": "2025-01-10T14:46:07.487735Z",
          "shell.execute_reply.started": "2025-01-10T14:46:07.474243Z",
          "shell.execute_reply": "2025-01-10T14:46:07.486924Z"
        },
        "id": "cBj9A3ZielMJ"
      },
      "outputs": [],
      "execution_count": null
    },
    {
      "cell_type": "code",
      "source": [
        "import tensorflow as tf\n",
        "\n",
        "# Check if TensorFlow detects the GPU\n",
        "print(\"Num GPUs Available: \", len(tf.config.experimental.list_physical_devices('GPU')))\n",
        "\n",
        "# Print GPU details (optional)\n",
        "gpu_devices = tf.config.experimental.list_physical_devices('GPU')\n",
        "for device in gpu_devices:\n",
        "    print(device)"
      ],
      "metadata": {
        "trusted": true,
        "execution": {
          "iopub.status.busy": "2025-01-10T14:46:07.488573Z",
          "iopub.execute_input": "2025-01-10T14:46:07.488838Z",
          "iopub.status.idle": "2025-01-10T14:46:07.494443Z",
          "shell.execute_reply.started": "2025-01-10T14:46:07.488818Z",
          "shell.execute_reply": "2025-01-10T14:46:07.493643Z"
        },
        "id": "KNGqsAN-elMJ"
      },
      "outputs": [],
      "execution_count": null
    },
    {
      "cell_type": "code",
      "source": [
        "EPOCHS = 6\n",
        "history = model.fit(\n",
        "    train_dataset,\n",
        "    validation_data=test_dataset,\n",
        "    epochs=EPOCHS\n",
        ")\n"
      ],
      "metadata": {
        "trusted": true,
        "execution": {
          "iopub.status.busy": "2025-01-10T14:46:07.495211Z",
          "iopub.execute_input": "2025-01-10T14:46:07.495462Z",
          "iopub.status.idle": "2025-01-10T15:04:21.446052Z",
          "shell.execute_reply.started": "2025-01-10T14:46:07.495441Z",
          "shell.execute_reply": "2025-01-10T15:04:21.445068Z"
        },
        "id": "3nnSEhyaelML"
      },
      "outputs": [],
      "execution_count": null
    },
    {
      "cell_type": "code",
      "source": [
        "test_loss, test_accuracy = model.evaluate(test_dataset)\n",
        "print(f\"Test Accuracy: {test_accuracy:.2f}\")\n"
      ],
      "metadata": {
        "trusted": true,
        "execution": {
          "iopub.status.busy": "2025-01-10T15:04:21.447204Z",
          "iopub.execute_input": "2025-01-10T15:04:21.447569Z",
          "iopub.status.idle": "2025-01-10T15:04:34.515077Z",
          "shell.execute_reply.started": "2025-01-10T15:04:21.447533Z",
          "shell.execute_reply": "2025-01-10T15:04:34.514112Z"
        },
        "id": "IW2AyxOKelML"
      },
      "outputs": [],
      "execution_count": null
    },
    {
      "cell_type": "code",
      "source": [
        "model.save(\"arabert_classification_model\")\n"
      ],
      "metadata": {
        "trusted": true,
        "execution": {
          "iopub.status.busy": "2025-01-10T15:05:11.59223Z",
          "iopub.execute_input": "2025-01-10T15:05:11.592524Z",
          "iopub.status.idle": "2025-01-10T15:05:40.530851Z",
          "shell.execute_reply.started": "2025-01-10T15:05:11.592502Z",
          "shell.execute_reply": "2025-01-10T15:05:40.530087Z"
        },
        "id": "JOaXexfFelMM"
      },
      "outputs": [],
      "execution_count": null
    },
    {
      "cell_type": "code",
      "source": [],
      "metadata": {
        "trusted": true,
        "id": "OTRxlo1NelMN"
      },
      "outputs": [],
      "execution_count": null
    }
  ]
}